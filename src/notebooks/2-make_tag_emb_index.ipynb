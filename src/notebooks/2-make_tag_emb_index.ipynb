{
 "cells": [
  {
   "cell_type": "code",
   "execution_count": 2,
   "id": "605c6fac-f0f7-48ea-8214-6e94aa6629cb",
   "metadata": {
    "tags": []
   },
   "outputs": [],
   "source": [
    "import torch\n",
    "import pickle"
   ]
  },
  {
   "cell_type": "markdown",
   "id": "a9e8d0cb",
   "metadata": {},
   "source": [
    "## Make Local Tag Embedding Index For TopK Search"
   ]
  },
  {
   "cell_type": "markdown",
   "id": "d80c2c65",
   "metadata": {},
   "source": [
    "### Load Tag Embedding"
   ]
  },
  {
   "cell_type": "code",
   "execution_count": 3,
   "id": "628ec1cb",
   "metadata": {},
   "outputs": [],
   "source": [
    "TAG_VERSION = \"20240726\""
   ]
  },
  {
   "cell_type": "code",
   "execution_count": 6,
   "id": "71ca97dc-6a25-4ec6-afe0-219d84220b6b",
   "metadata": {
    "tags": []
   },
   "outputs": [
    {
     "name": "stderr",
     "output_type": "stream",
     "text": [
      "/Users/jiahaoliu/miniconda3/envs/ir/lib/python3.9/site-packages/torch/storage.py:414: FutureWarning: You are using `torch.load` with `weights_only=False` (the current default value), which uses the default pickle module implicitly. It is possible to construct malicious pickle data which will execute arbitrary code during unpickling (See https://github.com/pytorch/pytorch/blob/main/SECURITY.md#untrusted-models for more details). In a future release, the default value for `weights_only` will be flipped to `True`. This limits the functions that could be executed during unpickling. Arbitrary objects will no longer be allowed to be loaded via this mode unless they are explicitly allowlisted by the user via `torch.serialization.add_safe_globals`. We recommend you start setting `weights_only=True` for any use case where you don't have full control of the loaded file. Please open an issue on GitHub for any issues related to this experimental feature.\n",
      "  return torch.load(io.BytesIO(b))\n"
     ]
    }
   ],
   "source": [
    "with open(f\"../data/tag_emb_{TAG_VERSION}.pkl\", \"rb\") as f:\n",
    "    tag_emb = pickle.load(f)"
   ]
  },
  {
   "cell_type": "code",
   "execution_count": 7,
   "id": "63f029ab-891b-4fbd-8749-9ecaf6f829bf",
   "metadata": {
    "tags": []
   },
   "outputs": [
    {
     "data": {
      "text/plain": [
       "dict_keys(['ACCOMMODATION', 'DINING', 'EXPERIENCE', 'ACCOMMODATION_TUI', 'ACCOMMODATION_IDS'])"
      ]
     },
     "execution_count": 7,
     "metadata": {},
     "output_type": "execute_result"
    }
   ],
   "source": [
    "tag_emb.keys()"
   ]
  },
  {
   "cell_type": "code",
   "execution_count": 8,
   "id": "eef0761d-a95b-4db7-8a14-b1cc1234235a",
   "metadata": {
    "tags": []
   },
   "outputs": [],
   "source": [
    "category = tag_emb.keys()"
   ]
  },
  {
   "cell_type": "code",
   "execution_count": 9,
   "id": "c3dcbe5d-fb19-4c37-9bad-eedfcebbc5dd",
   "metadata": {
    "tags": []
   },
   "outputs": [],
   "source": [
    "# tag_emb['ACCOMMODATION']['Category']['Luxury']"
   ]
  },
  {
   "cell_type": "markdown",
   "id": "d21fe345-b89d-4beb-8dcb-eb1b11a5d07e",
   "metadata": {
    "tags": []
   },
   "source": [
    "### Create tag_list ~ embedding"
   ]
  },
  {
   "cell_type": "code",
   "execution_count": 10,
   "id": "1fbf6b21-5ee2-45af-b410-86b18f950296",
   "metadata": {
    "tags": []
   },
   "outputs": [],
   "source": [
    "for cate in category:\n",
    "    subcat_tag_data = tag_emb[cate]\n",
    "    if cate == \"DINING\":\n",
    "        dining_tag_list = []\n",
    "        dining_emb_list = []\n",
    "        for sub_cate, tag_data in subcat_tag_data.items():\n",
    "            for tag, data in tag_data.items():\n",
    "                dining_tag_list.append((tag, sub_cate))\n",
    "                dining_emb_list.append(data['miniLM-L12-v2'])\n",
    "    elif cate == \"EXPERIENCE\":\n",
    "        experience_tag_list = []\n",
    "        experience_emb_list = []\n",
    "        for sub_cate, tag_data in subcat_tag_data.items():\n",
    "            for tag, data in tag_data.items():\n",
    "                experience_tag_list.append((tag, sub_cate))\n",
    "                experience_emb_list.append(data['miniLM-L12-v2'])\n",
    "    elif cate == \"ACCOMMODATION\":\n",
    "        accomm_tag_list, accomm_brand_tag_list = [], []\n",
    "        accomm_tag_emb_list, accomm_brand_tag_emb_list = [], []\n",
    "        for sub_cate, tag_data in subcat_tag_data.items():\n",
    "            for tag, data in tag_data.items():\n",
    "                if sub_cate == \"Brand\":\n",
    "                    accomm_brand_tag_list.append((tag, sub_cate))\n",
    "                    accomm_brand_tag_emb_list.append(data['miniLM-L12-v2'])\n",
    "                else:\n",
    "                    accomm_tag_list.append((tag, sub_cate))\n",
    "                    accomm_tag_emb_list.append(data['miniLM-L12-v2'])\n",
    "    elif cate == \"ACCOMMODATION_TUI\":\n",
    "        tui_accomm_tag_list, tui_accomm_brand_tag_list = [], []\n",
    "        tui_accomm_tag_emb_list, tui_accomm_brand_tag_emb_list = [], []\n",
    "        for sub_cate, tag_data in subcat_tag_data.items():\n",
    "            for tag, data in tag_data.items():\n",
    "                if sub_cate == \"Brand\":\n",
    "                    tui_accomm_brand_tag_list.append((tag, sub_cate))\n",
    "                    tui_accomm_brand_tag_emb_list.append(data['miniLM-L12-v2'])\n",
    "                else:\n",
    "                    tui_accomm_tag_list.append((tag, sub_cate))\n",
    "                    tui_accomm_tag_emb_list.append(data['miniLM-L12-v2'])\n",
    "    elif cate == \"ACCOMMODATION_IDS\":\n",
    "        ids_accomm_tag_list, ids_accomm_brand_tag_list = [], []\n",
    "        ids_accomm_tag_emb_list, ids_accomm_brand_tag_emb_list = [], []\n",
    "        for sub_cate, tag_data in subcat_tag_data.items():\n",
    "            for tag, data in tag_data.items():\n",
    "                if sub_cate == \"Brand\":\n",
    "                    ids_accomm_brand_tag_list.append((tag, sub_cate))\n",
    "                    ids_accomm_brand_tag_emb_list.append(data['miniLM-L12-v2'])\n",
    "                else:\n",
    "                    ids_accomm_tag_list.append((tag, sub_cate))\n",
    "                    ids_accomm_tag_emb_list.append(data['miniLM-L12-v2'])"
   ]
  },
  {
   "cell_type": "code",
   "execution_count": 11,
   "id": "44b3a110-e47c-4851-9eb4-06a481024338",
   "metadata": {
    "tags": []
   },
   "outputs": [],
   "source": [
    "dining_emb = torch.stack(dining_emb_list, axis=0)\n",
    "experience_emb = torch.stack(experience_emb_list, axis=0)\n",
    "accomm_brand_tag_emb = torch.stack(accomm_brand_tag_emb_list, axis=0)\n",
    "accomm_tag_emb = torch.stack(accomm_tag_emb_list, axis=0)\n",
    "# tui_accomm_brand_tag_emb = torch.stack(tui_accomm_brand_tag_emb_list, axis=0)\n",
    "tui_accomm_tag_emb = torch.stack(tui_accomm_tag_emb_list, axis=0)\n",
    "ids_accomm_brand_tag_emb = torch.stack(ids_accomm_brand_tag_emb_list, axis=0)\n",
    "# ids_accomm_tag_emb = torch.stack(ids_accomm_tag_emb_list, axis=0)"
   ]
  },
  {
   "cell_type": "code",
   "execution_count": 12,
   "id": "fe959816-a752-4da5-9987-0cdca6a6d139",
   "metadata": {
    "tags": []
   },
   "outputs": [
    {
     "data": {
      "text/plain": [
       "(torch.Size([1551, 384]),\n",
       " torch.Size([255, 384]),\n",
       " torch.Size([5551, 384]),\n",
       " torch.Size([580, 384]),\n",
       " torch.Size([124, 384]),\n",
       " torch.Size([361, 384]))"
      ]
     },
     "execution_count": 12,
     "metadata": {},
     "output_type": "execute_result"
    }
   ],
   "source": [
    "dining_emb.shape, experience_emb.shape, accomm_brand_tag_emb.shape, accomm_tag_emb.shape, tui_accomm_tag_emb.shape, ids_accomm_brand_tag_emb.shape"
   ]
  },
  {
   "cell_type": "code",
   "execution_count": 13,
   "id": "f5637ab9-7b9a-46c4-969b-cd11f96e7f3a",
   "metadata": {
    "tags": []
   },
   "outputs": [
    {
     "data": {
      "text/plain": [
       "(1551, 255, 5551, 580, 124, 361)"
      ]
     },
     "execution_count": 13,
     "metadata": {},
     "output_type": "execute_result"
    }
   ],
   "source": [
    "len(dining_tag_list), len(experience_tag_list), len(accomm_brand_tag_list), len(accomm_tag_list), len(tui_accomm_tag_list), len(ids_accomm_brand_tag_list)"
   ]
  },
  {
   "cell_type": "code",
   "execution_count": 14,
   "id": "0c9bd32d-b9ed-4016-aca6-1ac6ee048924",
   "metadata": {
    "tags": []
   },
   "outputs": [
    {
     "data": {
      "text/plain": [
       "False"
      ]
     },
     "execution_count": 14,
     "metadata": {},
     "output_type": "execute_result"
    }
   ],
   "source": [
    "# new added tag\n",
    "(\"TUI Blue\", \"Brand\") in accomm_brand_tag_list"
   ]
  },
  {
   "cell_type": "code",
   "execution_count": 15,
   "id": "8731ba76-5927-415e-83ad-03e5c4c5e1d5",
   "metadata": {
    "tags": []
   },
   "outputs": [
    {
     "data": {
      "text/plain": [
       "True"
      ]
     },
     "execution_count": 15,
     "metadata": {},
     "output_type": "execute_result"
    }
   ],
   "source": [
    "(\"Free Bottled Water\", \"Special Property Features\") in tui_accomm_tag_list"
   ]
  },
  {
   "cell_type": "code",
   "execution_count": 16,
   "id": "7d2b49c0-cc43-4e87-a4c3-7201858b2c89",
   "metadata": {
    "tags": []
   },
   "outputs": [
    {
     "data": {
      "text/plain": [
       "True"
      ]
     },
     "execution_count": 16,
     "metadata": {},
     "output_type": "execute_result"
    }
   ],
   "source": [
    "(\"Swire Hotels\", \"Brand\") in ids_accomm_brand_tag_list"
   ]
  },
  {
   "cell_type": "markdown",
   "id": "663d5d1d-8405-44fa-9706-76c212f2b39e",
   "metadata": {},
   "source": [
    "### Save"
   ]
  },
  {
   "cell_type": "code",
   "execution_count": 21,
   "id": "de41a160-e758-4e6c-8b3e-f2beb601234f",
   "metadata": {
    "tags": []
   },
   "outputs": [],
   "source": [
    "import os\n",
    "\n",
    "LOCAL_INDEX_FOLDER = \"../local_tag_emb_index\"\n",
    "os.makedirs(LOCAL_INDEX_FOLDER, exist_ok=True)\n",
    "\n",
    "local_index = [\n",
    "    \"dining-tag-vector\", \n",
    "    \"experience-tag-vector\", \n",
    "    \"accommodation-tag-vector\",\n",
    "    \"accommodation-brand-tag-vector\",\n",
    "    \"tui-accommodation-tag-vector\",\n",
    "    \"ids-accommodation-brand-tag-vector\",\n",
    "]\n",
    "\n",
    "index2data = {\n",
    "    \"dining-tag-vector\": (dining_tag_list, dining_emb),\n",
    "    \"experience-tag-vector\": (experience_tag_list, experience_emb),\n",
    "    \"accommodation-brand-tag-vector\": (accomm_brand_tag_list, accomm_brand_tag_emb),\n",
    "    \"accommodation-tag-vector\": (accomm_tag_list, accomm_tag_emb),\n",
    "    \"tui-accommodation-tag-vector\": (tui_accomm_tag_list, tui_accomm_tag_emb),\n",
    "    \"ids-accommodation-brand-tag-vector\": (ids_accomm_brand_tag_list, ids_accomm_brand_tag_emb),\n",
    "}"
   ]
  },
  {
   "cell_type": "code",
   "execution_count": 22,
   "id": "33dcdc3e-716c-4bd8-96c0-639c3dfab6f0",
   "metadata": {
    "tags": []
   },
   "outputs": [],
   "source": [
    "for index in local_index:\n",
    "    tag_list, embedding = index2data[index]\n",
    "    with open(os.path.join(LOCAL_INDEX_FOLDER, f\"{index}.pkl\"), 'wb') as f:\n",
    "        pickle.dump(\n",
    "            {\"tags\": tag_list, \"embeddings\": embedding}, f \n",
    "        )"
   ]
  },
  {
   "cell_type": "code",
   "execution_count": 23,
   "id": "2cc6b355-f76d-42de-80c4-a32afd9086cb",
   "metadata": {
    "tags": []
   },
   "outputs": [
    {
     "name": "stderr",
     "output_type": "stream",
     "text": [
      "/Users/jiahaoliu/miniconda3/envs/ir/lib/python3.9/site-packages/torch/storage.py:414: FutureWarning: You are using `torch.load` with `weights_only=False` (the current default value), which uses the default pickle module implicitly. It is possible to construct malicious pickle data which will execute arbitrary code during unpickling (See https://github.com/pytorch/pytorch/blob/main/SECURITY.md#untrusted-models for more details). In a future release, the default value for `weights_only` will be flipped to `True`. This limits the functions that could be executed during unpickling. Arbitrary objects will no longer be allowed to be loaded via this mode unless they are explicitly allowlisted by the user via `torch.serialization.add_safe_globals`. We recommend you start setting `weights_only=True` for any use case where you don't have full control of the loaded file. Please open an issue on GitHub for any issues related to this experimental feature.\n",
      "  return torch.load(io.BytesIO(b))\n"
     ]
    }
   ],
   "source": [
    "def load_index(index):\n",
    "    with open(os.path.join(LOCAL_INDEX_FOLDER, f\"{index}.pkl\"), 'rb') as f:\n",
    "        data = pickle.load(f)\n",
    "    return { \"tags\": data[\"tags\"], \"embeddings\": data[\"embeddings\"] }\n",
    "\n",
    "\n",
    "INDEX2DATA = { idx:load_index(idx) for idx in local_index }\n"
   ]
  },
  {
   "cell_type": "code",
   "execution_count": 24,
   "id": "657fdb7c-bbe3-4a83-a00d-330230df5d2b",
   "metadata": {
    "tags": []
   },
   "outputs": [
    {
     "data": {
      "text/plain": [
       "dict_keys(['dining-tag-vector', 'experience-tag-vector', 'accommodation-tag-vector', 'accommodation-brand-tag-vector', 'tui-accommodation-tag-vector', 'ids-accommodation-brand-tag-vector'])"
      ]
     },
     "execution_count": 24,
     "metadata": {},
     "output_type": "execute_result"
    }
   ],
   "source": [
    "INDEX2DATA.keys()"
   ]
  },
  {
   "cell_type": "code",
   "execution_count": null,
   "id": "625f6c94-e6ce-4403-9ad4-2db55835704d",
   "metadata": {},
   "outputs": [],
   "source": []
  },
  {
   "cell_type": "markdown",
   "id": "f33b59b1-6446-4294-813c-8e9f0657b1b7",
   "metadata": {},
   "source": [
    "## Test Inference.py Locally"
   ]
  },
  {
   "cell_type": "code",
   "execution_count": 25,
   "id": "600b0079-3bd2-4d42-bc9a-81592f363b16",
   "metadata": {
    "tags": []
   },
   "outputs": [],
   "source": [
    "!pip install sentence-transformers --quiet"
   ]
  },
  {
   "cell_type": "code",
   "execution_count": 32,
   "id": "1fd3b4f2-260b-4b70-be62-6549ae51cf2b",
   "metadata": {
    "tags": []
   },
   "outputs": [
    {
     "name": "stderr",
     "output_type": "stream",
     "text": [
      "/Users/jiahaoliu/miniconda3/envs/ir/lib/python3.9/site-packages/torch/storage.py:414: FutureWarning: You are using `torch.load` with `weights_only=False` (the current default value), which uses the default pickle module implicitly. It is possible to construct malicious pickle data which will execute arbitrary code during unpickling (See https://github.com/pytorch/pytorch/blob/main/SECURITY.md#untrusted-models for more details). In a future release, the default value for `weights_only` will be flipped to `True`. This limits the functions that could be executed during unpickling. Arbitrary objects will no longer be allowed to be loaded via this mode unless they are explicitly allowlisted by the user via `torch.serialization.add_safe_globals`. We recommend you start setting `weights_only=True` for any use case where you don't have full control of the loaded file. Please open an issue on GitHub for any issues related to this experimental feature.\n",
      "  return torch.load(io.BytesIO(b))\n"
     ]
    }
   ],
   "source": [
    "from transformers import AutoTokenizer, AutoModel\n",
    "import torch\n",
    "import torch.nn.functional as F\n",
    "import pickle\n",
    "import os\n",
    "\n",
    "\n",
    "# ----------------------------- #\n",
    "#      Index For TopK Search    #\n",
    "# ----------------------------- #\n",
    "LOCAL_INDEX_FOLDER = \"../local_tag_emb_index\"\n",
    "\n",
    "local_index = [\n",
    "    \"dining-tag-vector\", \n",
    "    \"experience-tag-vector\", \n",
    "    \"accommodation-tag-vector\",\n",
    "    \"accommodation-brand-tag-vector\",\n",
    "    \"tui-accommodation-tag-vector\",\n",
    "    \"ids-accommodation-brand-tag-vector\",\n",
    "]\n",
    "\n",
    "\n",
    "def load_index(index):\n",
    "    with open(os.path.join(LOCAL_INDEX_FOLDER, f\"{index}.pkl\"), 'rb') as f:\n",
    "        data = pickle.load(f)\n",
    "    return { \"tags\": data[\"tags\"], \"embeddings\": data[\"embeddings\"] }\n",
    "\n",
    "\n",
    "INDEX2DATA = { idx:load_index(idx) for idx in local_index }\n",
    "\n",
    "def retrieve_topk_tags(query_emb, query_index, topk=5):\n",
    "    # remove when we start using other models\n",
    "    assert query_emb.shape  == (1, 384)\n",
    "    \n",
    "    index_data = INDEX2DATA[query_index]\n",
    "    \n",
    "    tag_list, tag_embeddings = index_data['tags'], index_data['embeddings']\n",
    "    \n",
    "    similarities = F.cosine_similarity(query_emb, tag_embeddings, dim=1)\n",
    "    \n",
    "    # Sort indices based on similarity in descending order\n",
    "    sorted_indices = torch.argsort(similarities, descending=True).tolist()\n",
    "    \n",
    "    topk_tags = [tag_list[idx] for idx in sorted_indices[:topk]]\n",
    "    \n",
    "    return topk_tags\n",
    "    \n",
    "    \n",
    "# Helper: Mean Pooling - Take attention mask into account for correct averaging\n",
    "def mean_pooling(model_output, attention_mask):\n",
    "    token_embeddings = model_output[0] #First element of model_output contains all token embeddings\n",
    "    input_mask_expanded = attention_mask.unsqueeze(-1).expand(token_embeddings.size()).float()\n",
    "    return torch.sum(token_embeddings * input_mask_expanded, 1) / torch.clamp(input_mask_expanded.sum(1), min=1e-9)\n",
    "\n",
    "\n",
    "def model_fn(model_dir):\n",
    "    tokenizer = AutoTokenizer.from_pretrained(model_dir)\n",
    "    model = AutoModel.from_pretrained(model_dir)\n",
    "    return model, tokenizer\n",
    "\n",
    "\n",
    "def predict_fn(data, model_and_tokenizer):\n",
    "    # destruct model and tokenizer\n",
    "    model, tokenizer = model_and_tokenizer\n",
    " \n",
    "    # Tokenize sentences\n",
    "    query = data.pop(\"inputs\", data)\n",
    "    query_index = data.pop(\"index\", data)\n",
    "    query_topK = data.pop(\"topK\", data)\n",
    "    \n",
    "    encoded_input = tokenizer(query, padding=True, truncation=True, return_tensors='pt')\n",
    " \n",
    "    # Compute token embeddings\n",
    "    with torch.no_grad():\n",
    "        model_output = model(**encoded_input)\n",
    " \n",
    "    # Perform pooling\n",
    "    query_emb = mean_pooling(model_output, encoded_input['attention_mask'])\n",
    " \n",
    "    # Normalize embeddings\n",
    "    query_emb = F.normalize(query_emb, p=2, dim=1)\n",
    "        \n",
    "    topK_tags = retrieve_topk_tags(query_emb, query_index, query_topK)\n",
    " \n",
    "    # return dictonary, which will be json serializable\n",
    "    return {\"topK_tags\":topK_tags}\n"
   ]
  },
  {
   "cell_type": "code",
   "execution_count": 33,
   "id": "0870ad4f-f310-4fd9-8414-809de0e39e6f",
   "metadata": {
    "tags": []
   },
   "outputs": [],
   "source": [
    "model_dir = \"sentence-transformers/all-MiniLM-L12-v2\"\n",
    "data = {\n",
    "    \"inputs\": \"TUI Blue is a premium accommodation brand designed for leisure travelers seeking a blend of comfort, local culture, and personalized experiences. Offering stylish hotels and resorts in picturesque destinations, TUI Blue focuses on providing exceptional service, modern amenities, and a variety of activities to ensure a memorable and relaxing vacation.\",\n",
    "    \"index\": \"accommodation-brand-tag-vector\",\n",
    "    \"topK\": 10 \n",
    "}"
   ]
  },
  {
   "cell_type": "code",
   "execution_count": 28,
   "id": "43e8187b-94e7-4f48-9868-16a8cc434d18",
   "metadata": {
    "tags": []
   },
   "outputs": [],
   "source": [
    "model_dir = \"sentence-transformers/all-MiniLM-L12-v2\"\n",
    "data = {\n",
    "    \"inputs\": \"TUI Blue is a premium accommodation brand designed for leisure travelers seeking a blend of comfort, local culture, and personalized experiences. Offering stylish hotels and resorts in picturesque destinations, TUI Blue focuses on providing exceptional service, modern amenities, and a variety of activities to ensure a memorable and relaxing vacation.\",\n",
    "    \"index\": \"tui-accommodation-tag-vector\",\n",
    "    \"topK\": 10 \n",
    "}"
   ]
  },
  {
   "cell_type": "code",
   "execution_count": 34,
   "id": "5e29e7b6-c126-4294-8c48-66402c3bd085",
   "metadata": {
    "tags": []
   },
   "outputs": [],
   "source": [
    "model_dir = \"sentence-transformers/all-MiniLM-L12-v2\"\n",
    "data = {\n",
    "    \"inputs\": \"Swire Hotels are my favorite.\",\n",
    "    \"index\": \"ids-accommodation-brand-tag-vector\",\n",
    "    \"topK\": 10\n",
    "}"
   ]
  },
  {
   "cell_type": "code",
   "execution_count": 35,
   "id": "2e71841b-a2d2-4083-a72a-548b424ee6c0",
   "metadata": {
    "tags": []
   },
   "outputs": [],
   "source": [
    "model_and_tokenizer = model_fn(model_dir)"
   ]
  },
  {
   "cell_type": "code",
   "execution_count": 36,
   "id": "cde40073-a007-4f5b-a0b4-2ed40ed1f866",
   "metadata": {
    "tags": []
   },
   "outputs": [
    {
     "data": {
      "text/plain": [
       "{'topK_tags': [('Swire Hotels', 'Brand'),\n",
       "  ('element', 'Brand'),\n",
       "  ('SWOT', 'Brand'),\n",
       "  ('Renaissance', 'Brand'),\n",
       "  ('Destination Hotels', 'Brand'),\n",
       "  ('Small Luxury Hotels', 'Brand'),\n",
       "  ('VP Hotels', 'Brand'),\n",
       "  ('On Hotels', 'Brand'),\n",
       "  ('The Leading Hotels of the World', 'Brand'),\n",
       "  ('W Hotels', 'Brand')]}"
      ]
     },
     "execution_count": 36,
     "metadata": {},
     "output_type": "execute_result"
    }
   ],
   "source": [
    "predict_fn(data, model_and_tokenizer)"
   ]
  },
  {
   "cell_type": "code",
   "execution_count": null,
   "id": "7312ccea-53c5-4c40-9302-76ed1feda689",
   "metadata": {},
   "outputs": [],
   "source": []
  },
  {
   "cell_type": "code",
   "execution_count": null,
   "id": "f1a1c36a-046b-4798-b52d-c405aa2bc2c3",
   "metadata": {},
   "outputs": [],
   "source": []
  }
 ],
 "metadata": {
  "availableInstances": [
   {
    "_defaultOrder": 0,
    "_isFastLaunch": true,
    "category": "General purpose",
    "gpuNum": 0,
    "hideHardwareSpecs": false,
    "memoryGiB": 4,
    "name": "ml.t3.medium",
    "vcpuNum": 2
   },
   {
    "_defaultOrder": 1,
    "_isFastLaunch": false,
    "category": "General purpose",
    "gpuNum": 0,
    "hideHardwareSpecs": false,
    "memoryGiB": 8,
    "name": "ml.t3.large",
    "vcpuNum": 2
   },
   {
    "_defaultOrder": 2,
    "_isFastLaunch": false,
    "category": "General purpose",
    "gpuNum": 0,
    "hideHardwareSpecs": false,
    "memoryGiB": 16,
    "name": "ml.t3.xlarge",
    "vcpuNum": 4
   },
   {
    "_defaultOrder": 3,
    "_isFastLaunch": false,
    "category": "General purpose",
    "gpuNum": 0,
    "hideHardwareSpecs": false,
    "memoryGiB": 32,
    "name": "ml.t3.2xlarge",
    "vcpuNum": 8
   },
   {
    "_defaultOrder": 4,
    "_isFastLaunch": true,
    "category": "General purpose",
    "gpuNum": 0,
    "hideHardwareSpecs": false,
    "memoryGiB": 8,
    "name": "ml.m5.large",
    "vcpuNum": 2
   },
   {
    "_defaultOrder": 5,
    "_isFastLaunch": false,
    "category": "General purpose",
    "gpuNum": 0,
    "hideHardwareSpecs": false,
    "memoryGiB": 16,
    "name": "ml.m5.xlarge",
    "vcpuNum": 4
   },
   {
    "_defaultOrder": 6,
    "_isFastLaunch": false,
    "category": "General purpose",
    "gpuNum": 0,
    "hideHardwareSpecs": false,
    "memoryGiB": 32,
    "name": "ml.m5.2xlarge",
    "vcpuNum": 8
   },
   {
    "_defaultOrder": 7,
    "_isFastLaunch": false,
    "category": "General purpose",
    "gpuNum": 0,
    "hideHardwareSpecs": false,
    "memoryGiB": 64,
    "name": "ml.m5.4xlarge",
    "vcpuNum": 16
   },
   {
    "_defaultOrder": 8,
    "_isFastLaunch": false,
    "category": "General purpose",
    "gpuNum": 0,
    "hideHardwareSpecs": false,
    "memoryGiB": 128,
    "name": "ml.m5.8xlarge",
    "vcpuNum": 32
   },
   {
    "_defaultOrder": 9,
    "_isFastLaunch": false,
    "category": "General purpose",
    "gpuNum": 0,
    "hideHardwareSpecs": false,
    "memoryGiB": 192,
    "name": "ml.m5.12xlarge",
    "vcpuNum": 48
   },
   {
    "_defaultOrder": 10,
    "_isFastLaunch": false,
    "category": "General purpose",
    "gpuNum": 0,
    "hideHardwareSpecs": false,
    "memoryGiB": 256,
    "name": "ml.m5.16xlarge",
    "vcpuNum": 64
   },
   {
    "_defaultOrder": 11,
    "_isFastLaunch": false,
    "category": "General purpose",
    "gpuNum": 0,
    "hideHardwareSpecs": false,
    "memoryGiB": 384,
    "name": "ml.m5.24xlarge",
    "vcpuNum": 96
   },
   {
    "_defaultOrder": 12,
    "_isFastLaunch": false,
    "category": "General purpose",
    "gpuNum": 0,
    "hideHardwareSpecs": false,
    "memoryGiB": 8,
    "name": "ml.m5d.large",
    "vcpuNum": 2
   },
   {
    "_defaultOrder": 13,
    "_isFastLaunch": false,
    "category": "General purpose",
    "gpuNum": 0,
    "hideHardwareSpecs": false,
    "memoryGiB": 16,
    "name": "ml.m5d.xlarge",
    "vcpuNum": 4
   },
   {
    "_defaultOrder": 14,
    "_isFastLaunch": false,
    "category": "General purpose",
    "gpuNum": 0,
    "hideHardwareSpecs": false,
    "memoryGiB": 32,
    "name": "ml.m5d.2xlarge",
    "vcpuNum": 8
   },
   {
    "_defaultOrder": 15,
    "_isFastLaunch": false,
    "category": "General purpose",
    "gpuNum": 0,
    "hideHardwareSpecs": false,
    "memoryGiB": 64,
    "name": "ml.m5d.4xlarge",
    "vcpuNum": 16
   },
   {
    "_defaultOrder": 16,
    "_isFastLaunch": false,
    "category": "General purpose",
    "gpuNum": 0,
    "hideHardwareSpecs": false,
    "memoryGiB": 128,
    "name": "ml.m5d.8xlarge",
    "vcpuNum": 32
   },
   {
    "_defaultOrder": 17,
    "_isFastLaunch": false,
    "category": "General purpose",
    "gpuNum": 0,
    "hideHardwareSpecs": false,
    "memoryGiB": 192,
    "name": "ml.m5d.12xlarge",
    "vcpuNum": 48
   },
   {
    "_defaultOrder": 18,
    "_isFastLaunch": false,
    "category": "General purpose",
    "gpuNum": 0,
    "hideHardwareSpecs": false,
    "memoryGiB": 256,
    "name": "ml.m5d.16xlarge",
    "vcpuNum": 64
   },
   {
    "_defaultOrder": 19,
    "_isFastLaunch": false,
    "category": "General purpose",
    "gpuNum": 0,
    "hideHardwareSpecs": false,
    "memoryGiB": 384,
    "name": "ml.m5d.24xlarge",
    "vcpuNum": 96
   },
   {
    "_defaultOrder": 20,
    "_isFastLaunch": false,
    "category": "General purpose",
    "gpuNum": 0,
    "hideHardwareSpecs": true,
    "memoryGiB": 0,
    "name": "ml.geospatial.interactive",
    "supportedImageNames": [
     "sagemaker-geospatial-v1-0"
    ],
    "vcpuNum": 0
   },
   {
    "_defaultOrder": 21,
    "_isFastLaunch": true,
    "category": "Compute optimized",
    "gpuNum": 0,
    "hideHardwareSpecs": false,
    "memoryGiB": 4,
    "name": "ml.c5.large",
    "vcpuNum": 2
   },
   {
    "_defaultOrder": 22,
    "_isFastLaunch": false,
    "category": "Compute optimized",
    "gpuNum": 0,
    "hideHardwareSpecs": false,
    "memoryGiB": 8,
    "name": "ml.c5.xlarge",
    "vcpuNum": 4
   },
   {
    "_defaultOrder": 23,
    "_isFastLaunch": false,
    "category": "Compute optimized",
    "gpuNum": 0,
    "hideHardwareSpecs": false,
    "memoryGiB": 16,
    "name": "ml.c5.2xlarge",
    "vcpuNum": 8
   },
   {
    "_defaultOrder": 24,
    "_isFastLaunch": false,
    "category": "Compute optimized",
    "gpuNum": 0,
    "hideHardwareSpecs": false,
    "memoryGiB": 32,
    "name": "ml.c5.4xlarge",
    "vcpuNum": 16
   },
   {
    "_defaultOrder": 25,
    "_isFastLaunch": false,
    "category": "Compute optimized",
    "gpuNum": 0,
    "hideHardwareSpecs": false,
    "memoryGiB": 72,
    "name": "ml.c5.9xlarge",
    "vcpuNum": 36
   },
   {
    "_defaultOrder": 26,
    "_isFastLaunch": false,
    "category": "Compute optimized",
    "gpuNum": 0,
    "hideHardwareSpecs": false,
    "memoryGiB": 96,
    "name": "ml.c5.12xlarge",
    "vcpuNum": 48
   },
   {
    "_defaultOrder": 27,
    "_isFastLaunch": false,
    "category": "Compute optimized",
    "gpuNum": 0,
    "hideHardwareSpecs": false,
    "memoryGiB": 144,
    "name": "ml.c5.18xlarge",
    "vcpuNum": 72
   },
   {
    "_defaultOrder": 28,
    "_isFastLaunch": false,
    "category": "Compute optimized",
    "gpuNum": 0,
    "hideHardwareSpecs": false,
    "memoryGiB": 192,
    "name": "ml.c5.24xlarge",
    "vcpuNum": 96
   },
   {
    "_defaultOrder": 29,
    "_isFastLaunch": true,
    "category": "Accelerated computing",
    "gpuNum": 1,
    "hideHardwareSpecs": false,
    "memoryGiB": 16,
    "name": "ml.g4dn.xlarge",
    "vcpuNum": 4
   },
   {
    "_defaultOrder": 30,
    "_isFastLaunch": false,
    "category": "Accelerated computing",
    "gpuNum": 1,
    "hideHardwareSpecs": false,
    "memoryGiB": 32,
    "name": "ml.g4dn.2xlarge",
    "vcpuNum": 8
   },
   {
    "_defaultOrder": 31,
    "_isFastLaunch": false,
    "category": "Accelerated computing",
    "gpuNum": 1,
    "hideHardwareSpecs": false,
    "memoryGiB": 64,
    "name": "ml.g4dn.4xlarge",
    "vcpuNum": 16
   },
   {
    "_defaultOrder": 32,
    "_isFastLaunch": false,
    "category": "Accelerated computing",
    "gpuNum": 1,
    "hideHardwareSpecs": false,
    "memoryGiB": 128,
    "name": "ml.g4dn.8xlarge",
    "vcpuNum": 32
   },
   {
    "_defaultOrder": 33,
    "_isFastLaunch": false,
    "category": "Accelerated computing",
    "gpuNum": 4,
    "hideHardwareSpecs": false,
    "memoryGiB": 192,
    "name": "ml.g4dn.12xlarge",
    "vcpuNum": 48
   },
   {
    "_defaultOrder": 34,
    "_isFastLaunch": false,
    "category": "Accelerated computing",
    "gpuNum": 1,
    "hideHardwareSpecs": false,
    "memoryGiB": 256,
    "name": "ml.g4dn.16xlarge",
    "vcpuNum": 64
   },
   {
    "_defaultOrder": 35,
    "_isFastLaunch": false,
    "category": "Accelerated computing",
    "gpuNum": 1,
    "hideHardwareSpecs": false,
    "memoryGiB": 61,
    "name": "ml.p3.2xlarge",
    "vcpuNum": 8
   },
   {
    "_defaultOrder": 36,
    "_isFastLaunch": false,
    "category": "Accelerated computing",
    "gpuNum": 4,
    "hideHardwareSpecs": false,
    "memoryGiB": 244,
    "name": "ml.p3.8xlarge",
    "vcpuNum": 32
   },
   {
    "_defaultOrder": 37,
    "_isFastLaunch": false,
    "category": "Accelerated computing",
    "gpuNum": 8,
    "hideHardwareSpecs": false,
    "memoryGiB": 488,
    "name": "ml.p3.16xlarge",
    "vcpuNum": 64
   },
   {
    "_defaultOrder": 38,
    "_isFastLaunch": false,
    "category": "Accelerated computing",
    "gpuNum": 8,
    "hideHardwareSpecs": false,
    "memoryGiB": 768,
    "name": "ml.p3dn.24xlarge",
    "vcpuNum": 96
   },
   {
    "_defaultOrder": 39,
    "_isFastLaunch": false,
    "category": "Memory Optimized",
    "gpuNum": 0,
    "hideHardwareSpecs": false,
    "memoryGiB": 16,
    "name": "ml.r5.large",
    "vcpuNum": 2
   },
   {
    "_defaultOrder": 40,
    "_isFastLaunch": false,
    "category": "Memory Optimized",
    "gpuNum": 0,
    "hideHardwareSpecs": false,
    "memoryGiB": 32,
    "name": "ml.r5.xlarge",
    "vcpuNum": 4
   },
   {
    "_defaultOrder": 41,
    "_isFastLaunch": false,
    "category": "Memory Optimized",
    "gpuNum": 0,
    "hideHardwareSpecs": false,
    "memoryGiB": 64,
    "name": "ml.r5.2xlarge",
    "vcpuNum": 8
   },
   {
    "_defaultOrder": 42,
    "_isFastLaunch": false,
    "category": "Memory Optimized",
    "gpuNum": 0,
    "hideHardwareSpecs": false,
    "memoryGiB": 128,
    "name": "ml.r5.4xlarge",
    "vcpuNum": 16
   },
   {
    "_defaultOrder": 43,
    "_isFastLaunch": false,
    "category": "Memory Optimized",
    "gpuNum": 0,
    "hideHardwareSpecs": false,
    "memoryGiB": 256,
    "name": "ml.r5.8xlarge",
    "vcpuNum": 32
   },
   {
    "_defaultOrder": 44,
    "_isFastLaunch": false,
    "category": "Memory Optimized",
    "gpuNum": 0,
    "hideHardwareSpecs": false,
    "memoryGiB": 384,
    "name": "ml.r5.12xlarge",
    "vcpuNum": 48
   },
   {
    "_defaultOrder": 45,
    "_isFastLaunch": false,
    "category": "Memory Optimized",
    "gpuNum": 0,
    "hideHardwareSpecs": false,
    "memoryGiB": 512,
    "name": "ml.r5.16xlarge",
    "vcpuNum": 64
   },
   {
    "_defaultOrder": 46,
    "_isFastLaunch": false,
    "category": "Memory Optimized",
    "gpuNum": 0,
    "hideHardwareSpecs": false,
    "memoryGiB": 768,
    "name": "ml.r5.24xlarge",
    "vcpuNum": 96
   },
   {
    "_defaultOrder": 47,
    "_isFastLaunch": false,
    "category": "Accelerated computing",
    "gpuNum": 1,
    "hideHardwareSpecs": false,
    "memoryGiB": 16,
    "name": "ml.g5.xlarge",
    "vcpuNum": 4
   },
   {
    "_defaultOrder": 48,
    "_isFastLaunch": false,
    "category": "Accelerated computing",
    "gpuNum": 1,
    "hideHardwareSpecs": false,
    "memoryGiB": 32,
    "name": "ml.g5.2xlarge",
    "vcpuNum": 8
   },
   {
    "_defaultOrder": 49,
    "_isFastLaunch": false,
    "category": "Accelerated computing",
    "gpuNum": 1,
    "hideHardwareSpecs": false,
    "memoryGiB": 64,
    "name": "ml.g5.4xlarge",
    "vcpuNum": 16
   },
   {
    "_defaultOrder": 50,
    "_isFastLaunch": false,
    "category": "Accelerated computing",
    "gpuNum": 1,
    "hideHardwareSpecs": false,
    "memoryGiB": 128,
    "name": "ml.g5.8xlarge",
    "vcpuNum": 32
   },
   {
    "_defaultOrder": 51,
    "_isFastLaunch": false,
    "category": "Accelerated computing",
    "gpuNum": 1,
    "hideHardwareSpecs": false,
    "memoryGiB": 256,
    "name": "ml.g5.16xlarge",
    "vcpuNum": 64
   },
   {
    "_defaultOrder": 52,
    "_isFastLaunch": false,
    "category": "Accelerated computing",
    "gpuNum": 4,
    "hideHardwareSpecs": false,
    "memoryGiB": 192,
    "name": "ml.g5.12xlarge",
    "vcpuNum": 48
   },
   {
    "_defaultOrder": 53,
    "_isFastLaunch": false,
    "category": "Accelerated computing",
    "gpuNum": 4,
    "hideHardwareSpecs": false,
    "memoryGiB": 384,
    "name": "ml.g5.24xlarge",
    "vcpuNum": 96
   },
   {
    "_defaultOrder": 54,
    "_isFastLaunch": false,
    "category": "Accelerated computing",
    "gpuNum": 8,
    "hideHardwareSpecs": false,
    "memoryGiB": 768,
    "name": "ml.g5.48xlarge",
    "vcpuNum": 192
   },
   {
    "_defaultOrder": 55,
    "_isFastLaunch": false,
    "category": "Accelerated computing",
    "gpuNum": 8,
    "hideHardwareSpecs": false,
    "memoryGiB": 1152,
    "name": "ml.p4d.24xlarge",
    "vcpuNum": 96
   },
   {
    "_defaultOrder": 56,
    "_isFastLaunch": false,
    "category": "Accelerated computing",
    "gpuNum": 8,
    "hideHardwareSpecs": false,
    "memoryGiB": 1152,
    "name": "ml.p4de.24xlarge",
    "vcpuNum": 96
   },
   {
    "_defaultOrder": 57,
    "_isFastLaunch": false,
    "category": "Accelerated computing",
    "gpuNum": 0,
    "hideHardwareSpecs": false,
    "memoryGiB": 32,
    "name": "ml.trn1.2xlarge",
    "vcpuNum": 8
   },
   {
    "_defaultOrder": 58,
    "_isFastLaunch": false,
    "category": "Accelerated computing",
    "gpuNum": 0,
    "hideHardwareSpecs": false,
    "memoryGiB": 512,
    "name": "ml.trn1.32xlarge",
    "vcpuNum": 128
   },
   {
    "_defaultOrder": 59,
    "_isFastLaunch": false,
    "category": "Accelerated computing",
    "gpuNum": 0,
    "hideHardwareSpecs": false,
    "memoryGiB": 512,
    "name": "ml.trn1n.32xlarge",
    "vcpuNum": 128
   }
  ],
  "instance_type": "ml.g4dn.xlarge",
  "kernelspec": {
   "display_name": "ir",
   "language": "python",
   "name": "python3"
  },
  "language_info": {
   "codemirror_mode": {
    "name": "ipython",
    "version": 3
   },
   "file_extension": ".py",
   "mimetype": "text/x-python",
   "name": "python",
   "nbconvert_exporter": "python",
   "pygments_lexer": "ipython3",
   "version": "3.9.18"
  }
 },
 "nbformat": 4,
 "nbformat_minor": 5
}
