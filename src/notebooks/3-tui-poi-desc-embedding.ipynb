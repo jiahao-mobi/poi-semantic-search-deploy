{
 "cells": [
  {
   "cell_type": "code",
   "execution_count": 18,
   "id": "0296e0df-4566-4e2d-bed5-99e8bc5a297d",
   "metadata": {
    "tags": []
   },
   "outputs": [],
   "source": [
    "import pandas as pd\n",
    "from tqdm import tqdm\n",
    "import os"
   ]
  },
  {
   "cell_type": "code",
   "execution_count": 35,
   "id": "ec05415d",
   "metadata": {},
   "outputs": [
    {
     "data": {
      "text/plain": [
       "'../poi_desc_emb/tui-musement-backup-accommodation-embedded.parquet'"
      ]
     },
     "execution_count": 35,
     "metadata": {},
     "output_type": "execute_result"
    }
   ],
   "source": [
    "TUI_DATA_PATH = \"../../data/TUI Musement Backup Accommodation Data.csv\"\n",
    "FILE_NAME = \"tui-musement-backup-accommodation-embedded.parquet\"\n",
    "SAVE_FOLDER = \"../poi_desc_emb\"\n",
    "SAVE_PATH = os.path.join(SAVE_FOLDER, FILE_NAME)\n",
    "SAVE_PATH"
   ]
  },
  {
   "cell_type": "markdown",
   "id": "1e67ac55-0cfb-457a-bf9a-71872ec1b681",
   "metadata": {
    "tags": []
   },
   "source": [
    "## Load Data"
   ]
  },
  {
   "cell_type": "code",
   "execution_count": 20,
   "id": "1f582f30-d557-44aa-9a28-df12cb201952",
   "metadata": {
    "tags": []
   },
   "outputs": [],
   "source": [
    "df = pd.read_csv(TUI_DATA_PATH)"
   ]
  },
  {
   "cell_type": "code",
   "execution_count": 21,
   "id": "84fa67fa-5304-473d-85bf-9445fdc999b9",
   "metadata": {
    "tags": []
   },
   "outputs": [
    {
     "name": "stdout",
     "output_type": "stream",
     "text": [
      "This is a bold paragraph.\n"
     ]
    }
   ],
   "source": [
    "import re\n",
    "\n",
    "def remove_html_tags(text):\n",
    "    clean = re.compile('<.*?>')\n",
    "    return re.sub(clean, '', text)\n",
    "\n",
    "# Example usage\n",
    "html_text = \"<p>This is a <b>bold</b> paragraph.</p>\"\n",
    "clean_text = remove_html_tags(html_text)\n",
    "print(clean_text)\n"
   ]
  },
  {
   "cell_type": "code",
   "execution_count": 22,
   "id": "2f230efe-be74-45b6-a28c-f30d30d5c42b",
   "metadata": {
    "tags": []
   },
   "outputs": [],
   "source": [
    "df['Description'] = df['Description'].apply(remove_html_tags)"
   ]
  },
  {
   "cell_type": "code",
   "execution_count": 23,
   "id": "f3acbb08-9ed6-4cbd-9daf-2a95ac199277",
   "metadata": {
    "tags": []
   },
   "outputs": [
    {
     "data": {
      "text/html": [
       "<div>\n",
       "<style scoped>\n",
       "    .dataframe tbody tr th:only-of-type {\n",
       "        vertical-align: middle;\n",
       "    }\n",
       "\n",
       "    .dataframe tbody tr th {\n",
       "        vertical-align: top;\n",
       "    }\n",
       "\n",
       "    .dataframe thead th {\n",
       "        text-align: right;\n",
       "    }\n",
       "</style>\n",
       "<table border=\"1\" class=\"dataframe\">\n",
       "  <thead>\n",
       "    <tr style=\"text-align: right;\">\n",
       "      <th></th>\n",
       "      <th>Expedia_Id</th>\n",
       "      <th>Name</th>\n",
       "      <th>Type</th>\n",
       "      <th>Brand</th>\n",
       "      <th>Categories</th>\n",
       "      <th>Tags</th>\n",
       "      <th>Contexts</th>\n",
       "      <th>Rating</th>\n",
       "      <th>Reviews</th>\n",
       "      <th>Lat</th>\n",
       "      <th>Lng</th>\n",
       "      <th>Address</th>\n",
       "      <th>Address Object</th>\n",
       "      <th>Timezone</th>\n",
       "      <th>Modes</th>\n",
       "      <th>Price/day</th>\n",
       "      <th>Description</th>\n",
       "      <th>Small Image</th>\n",
       "      <th>Medium Image</th>\n",
       "      <th>Images</th>\n",
       "    </tr>\n",
       "  </thead>\n",
       "  <tbody>\n",
       "    <tr>\n",
       "      <th>0</th>\n",
       "      <td>1039</td>\n",
       "      <td>Riu Palace Paradise Island - Adults Only - All...</td>\n",
       "      <td>lodging</td>\n",
       "      <td>RIU Resorts</td>\n",
       "      <td>NaN</td>\n",
       "      <td>Near Ocean,Spa,Swimming,Coffee,Tea/Coffee,Room...</td>\n",
       "      <td>NaN</td>\n",
       "      <td>8.0</td>\n",
       "      <td>2478</td>\n",
       "      <td>25.083853</td>\n",
       "      <td>-77.316330</td>\n",
       "      <td>6307 Casino Drive,Paradise Island,New Providen...</td>\n",
       "      <td>{\"street1\":\"6307 Casino Drive\",\"city\":\"Paradis...</td>\n",
       "      <td>NaN</td>\n",
       "      <td>TUI_MUSEMENT</td>\n",
       "      <td>532.21</td>\n",
       "      <td>Adults-only beach propertyCatch some rays at t...</td>\n",
       "      <td>https://images.trvl-media.com/lodging/1000000/...</td>\n",
       "      <td>https://images.trvl-media.com/lodging/1000000/...</td>\n",
       "      <td>https://images.trvl-media.com/lodging/1000000/...</td>\n",
       "    </tr>\n",
       "    <tr>\n",
       "      <th>1</th>\n",
       "      <td>6919</td>\n",
       "      <td>Hotel Riu Plaza The Gresham Dublin</td>\n",
       "      <td>lodging</td>\n",
       "      <td>RIU Plaza</td>\n",
       "      <td>NaN</td>\n",
       "      <td>Near Ocean,Tea/Coffee,Room Service,Chinese (Ma...</td>\n",
       "      <td>NaN</td>\n",
       "      <td>8.8</td>\n",
       "      <td>1384</td>\n",
       "      <td>53.351585</td>\n",
       "      <td>-6.260934</td>\n",
       "      <td>23 Upper O Connell Street,Dublin,Dublin,Ireland</td>\n",
       "      <td>{\"street1\":\"23 Upper O Connell Street\",\"city\":...</td>\n",
       "      <td>NaN</td>\n",
       "      <td>TUI_MUSEMENT</td>\n",
       "      <td>198.90</td>\n",
       "      <td>Upscale eco-certified hotel, walk to O'Connell...</td>\n",
       "      <td>https://images.trvl-media.com/lodging/1000000/...</td>\n",
       "      <td>https://images.trvl-media.com/lodging/1000000/...</td>\n",
       "      <td>https://images.trvl-media.com/lodging/1000000/...</td>\n",
       "    </tr>\n",
       "    <tr>\n",
       "      <th>2</th>\n",
       "      <td>24625</td>\n",
       "      <td>Hotel Riu Plaza Fisherman's Wharf</td>\n",
       "      <td>lodging</td>\n",
       "      <td>RIU Plaza</td>\n",
       "      <td>NaN</td>\n",
       "      <td>Near Ocean,Near Mountain,Coffee,Tea/Coffee,Air...</td>\n",
       "      <td>NaN</td>\n",
       "      <td>8.8</td>\n",
       "      <td>6325</td>\n",
       "      <td>37.806866</td>\n",
       "      <td>-122.413780</td>\n",
       "      <td>2500 Mason St,San Francisco,California,United ...</td>\n",
       "      <td>{\"street1\":\"2500 Mason St\",\"city\":\"San Francis...</td>\n",
       "      <td>NaN</td>\n",
       "      <td>TUI_MUSEMENT</td>\n",
       "      <td>139.02</td>\n",
       "      <td>Eco-certified San Francisco hotel in Fisherman...</td>\n",
       "      <td>https://images.trvl-media.com/lodging/1000000/...</td>\n",
       "      <td>https://images.trvl-media.com/lodging/1000000/...</td>\n",
       "      <td>https://images.trvl-media.com/lodging/1000000/...</td>\n",
       "    </tr>\n",
       "    <tr>\n",
       "      <th>3</th>\n",
       "      <td>28648</td>\n",
       "      <td>Riu Palace Antillas - Adults Only - All Inclusive</td>\n",
       "      <td>lodging</td>\n",
       "      <td>RIU Resorts</td>\n",
       "      <td>NaN</td>\n",
       "      <td>Near Ocean,Spa,Coffee,Tea/Coffee,Room Service,...</td>\n",
       "      <td>NaN</td>\n",
       "      <td>7.8</td>\n",
       "      <td>1220</td>\n",
       "      <td>12.565420</td>\n",
       "      <td>-70.048560</td>\n",
       "      <td>J E Irausquin Boulevard 77,Noord,Noord,Aruba</td>\n",
       "      <td>{\"street1\":\"J E Irausquin Boulevard 77\",\"city\"...</td>\n",
       "      <td>NaN</td>\n",
       "      <td>TUI_MUSEMENT</td>\n",
       "      <td>775.61</td>\n",
       "      <td>Adults-only beach propertyCatch some rays at t...</td>\n",
       "      <td>https://images.trvl-media.com/lodging/1000000/...</td>\n",
       "      <td>https://images.trvl-media.com/lodging/1000000/...</td>\n",
       "      <td>https://images.trvl-media.com/lodging/1000000/...</td>\n",
       "    </tr>\n",
       "    <tr>\n",
       "      <th>4</th>\n",
       "      <td>54490</td>\n",
       "      <td>Grupotel Mayorazgo</td>\n",
       "      <td>lodging</td>\n",
       "      <td>Grupotel</td>\n",
       "      <td>NaN</td>\n",
       "      <td>Near Mountain</td>\n",
       "      <td>NaN</td>\n",
       "      <td>8.2</td>\n",
       "      <td>583</td>\n",
       "      <td>40.422140</td>\n",
       "      <td>-3.709500</td>\n",
       "      <td>Flor Baja 3,Madrid,Madrid,Spain</td>\n",
       "      <td>{\"street1\":\"Flor Baja 3\",\"city\":\"Madrid\",\"stat...</td>\n",
       "      <td>NaN</td>\n",
       "      <td>TUI_MUSEMENT</td>\n",
       "      <td>134.49</td>\n",
       "      <td>Upscale hotel, walk to Gran ViaA restaurant, a...</td>\n",
       "      <td>https://images.trvl-media.com/lodging/1000000/...</td>\n",
       "      <td>https://images.trvl-media.com/lodging/1000000/...</td>\n",
       "      <td>https://images.trvl-media.com/lodging/1000000/...</td>\n",
       "    </tr>\n",
       "  </tbody>\n",
       "</table>\n",
       "</div>"
      ],
      "text/plain": [
       "   Expedia_Id                                               Name     Type  \\\n",
       "0        1039  Riu Palace Paradise Island - Adults Only - All...  lodging   \n",
       "1        6919                 Hotel Riu Plaza The Gresham Dublin  lodging   \n",
       "2       24625                  Hotel Riu Plaza Fisherman's Wharf  lodging   \n",
       "3       28648  Riu Palace Antillas - Adults Only - All Inclusive  lodging   \n",
       "4       54490                                 Grupotel Mayorazgo  lodging   \n",
       "\n",
       "         Brand  Categories                                               Tags  \\\n",
       "0  RIU Resorts         NaN  Near Ocean,Spa,Swimming,Coffee,Tea/Coffee,Room...   \n",
       "1    RIU Plaza         NaN  Near Ocean,Tea/Coffee,Room Service,Chinese (Ma...   \n",
       "2    RIU Plaza         NaN  Near Ocean,Near Mountain,Coffee,Tea/Coffee,Air...   \n",
       "3  RIU Resorts         NaN  Near Ocean,Spa,Coffee,Tea/Coffee,Room Service,...   \n",
       "4     Grupotel         NaN                                      Near Mountain   \n",
       "\n",
       "   Contexts  Rating  Reviews        Lat         Lng  \\\n",
       "0       NaN     8.0     2478  25.083853  -77.316330   \n",
       "1       NaN     8.8     1384  53.351585   -6.260934   \n",
       "2       NaN     8.8     6325  37.806866 -122.413780   \n",
       "3       NaN     7.8     1220  12.565420  -70.048560   \n",
       "4       NaN     8.2      583  40.422140   -3.709500   \n",
       "\n",
       "                                             Address  \\\n",
       "0  6307 Casino Drive,Paradise Island,New Providen...   \n",
       "1    23 Upper O Connell Street,Dublin,Dublin,Ireland   \n",
       "2  2500 Mason St,San Francisco,California,United ...   \n",
       "3       J E Irausquin Boulevard 77,Noord,Noord,Aruba   \n",
       "4                    Flor Baja 3,Madrid,Madrid,Spain   \n",
       "\n",
       "                                      Address Object  Timezone         Modes  \\\n",
       "0  {\"street1\":\"6307 Casino Drive\",\"city\":\"Paradis...       NaN  TUI_MUSEMENT   \n",
       "1  {\"street1\":\"23 Upper O Connell Street\",\"city\":...       NaN  TUI_MUSEMENT   \n",
       "2  {\"street1\":\"2500 Mason St\",\"city\":\"San Francis...       NaN  TUI_MUSEMENT   \n",
       "3  {\"street1\":\"J E Irausquin Boulevard 77\",\"city\"...       NaN  TUI_MUSEMENT   \n",
       "4  {\"street1\":\"Flor Baja 3\",\"city\":\"Madrid\",\"stat...       NaN  TUI_MUSEMENT   \n",
       "\n",
       "   Price/day                                        Description  \\\n",
       "0     532.21  Adults-only beach propertyCatch some rays at t...   \n",
       "1     198.90  Upscale eco-certified hotel, walk to O'Connell...   \n",
       "2     139.02  Eco-certified San Francisco hotel in Fisherman...   \n",
       "3     775.61  Adults-only beach propertyCatch some rays at t...   \n",
       "4     134.49  Upscale hotel, walk to Gran ViaA restaurant, a...   \n",
       "\n",
       "                                         Small Image  \\\n",
       "0  https://images.trvl-media.com/lodging/1000000/...   \n",
       "1  https://images.trvl-media.com/lodging/1000000/...   \n",
       "2  https://images.trvl-media.com/lodging/1000000/...   \n",
       "3  https://images.trvl-media.com/lodging/1000000/...   \n",
       "4  https://images.trvl-media.com/lodging/1000000/...   \n",
       "\n",
       "                                        Medium Image  \\\n",
       "0  https://images.trvl-media.com/lodging/1000000/...   \n",
       "1  https://images.trvl-media.com/lodging/1000000/...   \n",
       "2  https://images.trvl-media.com/lodging/1000000/...   \n",
       "3  https://images.trvl-media.com/lodging/1000000/...   \n",
       "4  https://images.trvl-media.com/lodging/1000000/...   \n",
       "\n",
       "                                              Images  \n",
       "0  https://images.trvl-media.com/lodging/1000000/...  \n",
       "1  https://images.trvl-media.com/lodging/1000000/...  \n",
       "2  https://images.trvl-media.com/lodging/1000000/...  \n",
       "3  https://images.trvl-media.com/lodging/1000000/...  \n",
       "4  https://images.trvl-media.com/lodging/1000000/...  "
      ]
     },
     "execution_count": 23,
     "metadata": {},
     "output_type": "execute_result"
    }
   ],
   "source": [
    "df = df.rename(columns={\"Id\": \"Expedia_Id\"})\n",
    "\n",
    "df.head()"
   ]
  },
  {
   "cell_type": "code",
   "execution_count": null,
   "id": "efa2e23c-8d6e-428b-84c4-ee8d837f18b1",
   "metadata": {},
   "outputs": [],
   "source": []
  },
  {
   "cell_type": "markdown",
   "id": "2fa25517-7c83-4d6b-9364-4cfd46597536",
   "metadata": {
    "tags": []
   },
   "source": [
    "## Encode (MiniLM)"
   ]
  },
  {
   "cell_type": "code",
   "execution_count": 24,
   "id": "b51696ae-4beb-4ed9-aaf6-dc72a134a59a",
   "metadata": {
    "tags": []
   },
   "outputs": [],
   "source": [
    "import pandas as pd\n",
    "from transformers import AutoTokenizer, AutoModel\n",
    "from torch import Tensor\n",
    "import torch\n",
    "from tqdm import tqdm\n",
    "import torch.nn.functional as F\n"
   ]
  },
  {
   "cell_type": "code",
   "execution_count": 25,
   "id": "fca53ead-62d6-4095-9a9f-2cfcfe40b81d",
   "metadata": {
    "tags": []
   },
   "outputs": [],
   "source": [
    "def mean_pooling(model_output, attention_mask):\n",
    "    token_embeddings = model_output[0] #First element of model_output contains all token embeddings\n",
    "    input_mask_expanded = attention_mask.unsqueeze(-1).expand(token_embeddings.size()).float()\n",
    "    return torch.sum(token_embeddings * input_mask_expanded, 1) / torch.clamp(input_mask_expanded.sum(1), min=1e-9)\n"
   ]
  },
  {
   "cell_type": "code",
   "execution_count": 26,
   "id": "5903198f-73de-4dec-9791-5c08b1009ba5",
   "metadata": {
    "tags": []
   },
   "outputs": [
    {
     "data": {
      "text/plain": [
       "device(type='cpu')"
      ]
     },
     "execution_count": 26,
     "metadata": {},
     "output_type": "execute_result"
    }
   ],
   "source": [
    "tokenizer = AutoTokenizer.from_pretrained('sentence-transformers/all-MiniLM-L12-v2')\n",
    "model = AutoModel.from_pretrained('sentence-transformers/all-MiniLM-L12-v2')\n",
    "model.device"
   ]
  },
  {
   "cell_type": "code",
   "execution_count": 27,
   "id": "715eacb4-da55-446b-8f81-75f09079efa3",
   "metadata": {
    "tags": []
   },
   "outputs": [],
   "source": [
    "def model_encode(model, tokenizer, text):\n",
    "    encoded_input = tokenizer(text, padding=True, truncation=True, return_tensors='pt')\n",
    "    with torch.no_grad():\n",
    "        model_output = model(**encoded_input)\n",
    "    # Perform pooling\n",
    "    text_emb = mean_pooling(model_output, encoded_input['attention_mask'])\n",
    "    text_emb = F.normalize(text_emb, p=2, dim=1)\n",
    "    return text_emb"
   ]
  },
  {
   "cell_type": "code",
   "execution_count": 28,
   "id": "1a32ac9c-d0fa-4ce2-860f-1e1428e1e341",
   "metadata": {
    "tags": []
   },
   "outputs": [],
   "source": [
    "def encode_input_text(model, tokenizer, input_texts, batch_size=128):\n",
    "    emb_list = []\n",
    "    with torch.no_grad():\n",
    "        for s in tqdm(range(0, len(input_texts), batch_size)):\n",
    "            e = min(len(input_texts), s+batch_size)\n",
    "            batch_input_text = input_texts[s:e]\n",
    "            batch_embeddings = model_encode(model, tokenizer, batch_input_text)\n",
    "            emb_list.append(batch_embeddings)\n",
    "    return torch.cat(emb_list, dim=0)"
   ]
  },
  {
   "cell_type": "code",
   "execution_count": 29,
   "id": "048749de-30de-49d5-a40c-5020b66b5815",
   "metadata": {
    "tags": []
   },
   "outputs": [],
   "source": [
    "descriptions = df['Description'].values.tolist()"
   ]
  },
  {
   "cell_type": "code",
   "execution_count": 30,
   "id": "463afd8a-bd79-4d2b-b441-ad94400cc2dd",
   "metadata": {
    "tags": []
   },
   "outputs": [
    {
     "name": "stderr",
     "output_type": "stream",
     "text": [
      "100%|██████████| 1/1 [00:09<00:00,  9.99s/it]\n"
     ]
    }
   ],
   "source": [
    "desc_emb = encode_input_text(model, tokenizer, descriptions, batch_size=256).tolist()"
   ]
  },
  {
   "cell_type": "code",
   "execution_count": 32,
   "id": "329a7d74-06e3-4a71-9f72-985e6fbc074d",
   "metadata": {
    "tags": []
   },
   "outputs": [],
   "source": [
    "df['all-MiniLM-L12-v2'] = desc_emb"
   ]
  },
  {
   "cell_type": "markdown",
   "id": "becda4d0-b57c-4bfb-8646-a9722bef2a41",
   "metadata": {},
   "source": [
    "## Save Results"
   ]
  },
  {
   "cell_type": "code",
   "execution_count": 36,
   "id": "887b931d",
   "metadata": {},
   "outputs": [],
   "source": [
    "df.to_parquet(SAVE_PATH, index=False)"
   ]
  },
  {
   "cell_type": "code",
   "execution_count": 37,
   "id": "035437dd-236f-4208-ae63-112d18bad5ce",
   "metadata": {},
   "outputs": [
    {
     "data": {
      "text/plain": [
       "[0.055443741381168365,\n",
       " -0.028733868151903152,\n",
       " 0.12436169385910034,\n",
       " 0.06000158190727234,\n",
       " 0.0953599214553833,\n",
       " 0.0028567889239639044,\n",
       " 0.053968723863363266,\n",
       " -0.03289089351892471,\n",
       " 0.011583748273551464,\n",
       " 0.0510227233171463]"
      ]
     },
     "execution_count": 37,
     "metadata": {},
     "output_type": "execute_result"
    }
   ],
   "source": [
    "df['all-MiniLM-L12-v2'][0][0:10]"
   ]
  },
  {
   "cell_type": "code",
   "execution_count": null,
   "id": "f2911088-62be-4f76-8c51-600d0054fae6",
   "metadata": {},
   "outputs": [],
   "source": []
  }
 ],
 "metadata": {
  "availableInstances": [
   {
    "_defaultOrder": 0,
    "_isFastLaunch": true,
    "category": "General purpose",
    "gpuNum": 0,
    "hideHardwareSpecs": false,
    "memoryGiB": 4,
    "name": "ml.t3.medium",
    "vcpuNum": 2
   },
   {
    "_defaultOrder": 1,
    "_isFastLaunch": false,
    "category": "General purpose",
    "gpuNum": 0,
    "hideHardwareSpecs": false,
    "memoryGiB": 8,
    "name": "ml.t3.large",
    "vcpuNum": 2
   },
   {
    "_defaultOrder": 2,
    "_isFastLaunch": false,
    "category": "General purpose",
    "gpuNum": 0,
    "hideHardwareSpecs": false,
    "memoryGiB": 16,
    "name": "ml.t3.xlarge",
    "vcpuNum": 4
   },
   {
    "_defaultOrder": 3,
    "_isFastLaunch": false,
    "category": "General purpose",
    "gpuNum": 0,
    "hideHardwareSpecs": false,
    "memoryGiB": 32,
    "name": "ml.t3.2xlarge",
    "vcpuNum": 8
   },
   {
    "_defaultOrder": 4,
    "_isFastLaunch": true,
    "category": "General purpose",
    "gpuNum": 0,
    "hideHardwareSpecs": false,
    "memoryGiB": 8,
    "name": "ml.m5.large",
    "vcpuNum": 2
   },
   {
    "_defaultOrder": 5,
    "_isFastLaunch": false,
    "category": "General purpose",
    "gpuNum": 0,
    "hideHardwareSpecs": false,
    "memoryGiB": 16,
    "name": "ml.m5.xlarge",
    "vcpuNum": 4
   },
   {
    "_defaultOrder": 6,
    "_isFastLaunch": false,
    "category": "General purpose",
    "gpuNum": 0,
    "hideHardwareSpecs": false,
    "memoryGiB": 32,
    "name": "ml.m5.2xlarge",
    "vcpuNum": 8
   },
   {
    "_defaultOrder": 7,
    "_isFastLaunch": false,
    "category": "General purpose",
    "gpuNum": 0,
    "hideHardwareSpecs": false,
    "memoryGiB": 64,
    "name": "ml.m5.4xlarge",
    "vcpuNum": 16
   },
   {
    "_defaultOrder": 8,
    "_isFastLaunch": false,
    "category": "General purpose",
    "gpuNum": 0,
    "hideHardwareSpecs": false,
    "memoryGiB": 128,
    "name": "ml.m5.8xlarge",
    "vcpuNum": 32
   },
   {
    "_defaultOrder": 9,
    "_isFastLaunch": false,
    "category": "General purpose",
    "gpuNum": 0,
    "hideHardwareSpecs": false,
    "memoryGiB": 192,
    "name": "ml.m5.12xlarge",
    "vcpuNum": 48
   },
   {
    "_defaultOrder": 10,
    "_isFastLaunch": false,
    "category": "General purpose",
    "gpuNum": 0,
    "hideHardwareSpecs": false,
    "memoryGiB": 256,
    "name": "ml.m5.16xlarge",
    "vcpuNum": 64
   },
   {
    "_defaultOrder": 11,
    "_isFastLaunch": false,
    "category": "General purpose",
    "gpuNum": 0,
    "hideHardwareSpecs": false,
    "memoryGiB": 384,
    "name": "ml.m5.24xlarge",
    "vcpuNum": 96
   },
   {
    "_defaultOrder": 12,
    "_isFastLaunch": false,
    "category": "General purpose",
    "gpuNum": 0,
    "hideHardwareSpecs": false,
    "memoryGiB": 8,
    "name": "ml.m5d.large",
    "vcpuNum": 2
   },
   {
    "_defaultOrder": 13,
    "_isFastLaunch": false,
    "category": "General purpose",
    "gpuNum": 0,
    "hideHardwareSpecs": false,
    "memoryGiB": 16,
    "name": "ml.m5d.xlarge",
    "vcpuNum": 4
   },
   {
    "_defaultOrder": 14,
    "_isFastLaunch": false,
    "category": "General purpose",
    "gpuNum": 0,
    "hideHardwareSpecs": false,
    "memoryGiB": 32,
    "name": "ml.m5d.2xlarge",
    "vcpuNum": 8
   },
   {
    "_defaultOrder": 15,
    "_isFastLaunch": false,
    "category": "General purpose",
    "gpuNum": 0,
    "hideHardwareSpecs": false,
    "memoryGiB": 64,
    "name": "ml.m5d.4xlarge",
    "vcpuNum": 16
   },
   {
    "_defaultOrder": 16,
    "_isFastLaunch": false,
    "category": "General purpose",
    "gpuNum": 0,
    "hideHardwareSpecs": false,
    "memoryGiB": 128,
    "name": "ml.m5d.8xlarge",
    "vcpuNum": 32
   },
   {
    "_defaultOrder": 17,
    "_isFastLaunch": false,
    "category": "General purpose",
    "gpuNum": 0,
    "hideHardwareSpecs": false,
    "memoryGiB": 192,
    "name": "ml.m5d.12xlarge",
    "vcpuNum": 48
   },
   {
    "_defaultOrder": 18,
    "_isFastLaunch": false,
    "category": "General purpose",
    "gpuNum": 0,
    "hideHardwareSpecs": false,
    "memoryGiB": 256,
    "name": "ml.m5d.16xlarge",
    "vcpuNum": 64
   },
   {
    "_defaultOrder": 19,
    "_isFastLaunch": false,
    "category": "General purpose",
    "gpuNum": 0,
    "hideHardwareSpecs": false,
    "memoryGiB": 384,
    "name": "ml.m5d.24xlarge",
    "vcpuNum": 96
   },
   {
    "_defaultOrder": 20,
    "_isFastLaunch": false,
    "category": "General purpose",
    "gpuNum": 0,
    "hideHardwareSpecs": true,
    "memoryGiB": 0,
    "name": "ml.geospatial.interactive",
    "supportedImageNames": [
     "sagemaker-geospatial-v1-0"
    ],
    "vcpuNum": 0
   },
   {
    "_defaultOrder": 21,
    "_isFastLaunch": true,
    "category": "Compute optimized",
    "gpuNum": 0,
    "hideHardwareSpecs": false,
    "memoryGiB": 4,
    "name": "ml.c5.large",
    "vcpuNum": 2
   },
   {
    "_defaultOrder": 22,
    "_isFastLaunch": false,
    "category": "Compute optimized",
    "gpuNum": 0,
    "hideHardwareSpecs": false,
    "memoryGiB": 8,
    "name": "ml.c5.xlarge",
    "vcpuNum": 4
   },
   {
    "_defaultOrder": 23,
    "_isFastLaunch": false,
    "category": "Compute optimized",
    "gpuNum": 0,
    "hideHardwareSpecs": false,
    "memoryGiB": 16,
    "name": "ml.c5.2xlarge",
    "vcpuNum": 8
   },
   {
    "_defaultOrder": 24,
    "_isFastLaunch": false,
    "category": "Compute optimized",
    "gpuNum": 0,
    "hideHardwareSpecs": false,
    "memoryGiB": 32,
    "name": "ml.c5.4xlarge",
    "vcpuNum": 16
   },
   {
    "_defaultOrder": 25,
    "_isFastLaunch": false,
    "category": "Compute optimized",
    "gpuNum": 0,
    "hideHardwareSpecs": false,
    "memoryGiB": 72,
    "name": "ml.c5.9xlarge",
    "vcpuNum": 36
   },
   {
    "_defaultOrder": 26,
    "_isFastLaunch": false,
    "category": "Compute optimized",
    "gpuNum": 0,
    "hideHardwareSpecs": false,
    "memoryGiB": 96,
    "name": "ml.c5.12xlarge",
    "vcpuNum": 48
   },
   {
    "_defaultOrder": 27,
    "_isFastLaunch": false,
    "category": "Compute optimized",
    "gpuNum": 0,
    "hideHardwareSpecs": false,
    "memoryGiB": 144,
    "name": "ml.c5.18xlarge",
    "vcpuNum": 72
   },
   {
    "_defaultOrder": 28,
    "_isFastLaunch": false,
    "category": "Compute optimized",
    "gpuNum": 0,
    "hideHardwareSpecs": false,
    "memoryGiB": 192,
    "name": "ml.c5.24xlarge",
    "vcpuNum": 96
   },
   {
    "_defaultOrder": 29,
    "_isFastLaunch": true,
    "category": "Accelerated computing",
    "gpuNum": 1,
    "hideHardwareSpecs": false,
    "memoryGiB": 16,
    "name": "ml.g4dn.xlarge",
    "vcpuNum": 4
   },
   {
    "_defaultOrder": 30,
    "_isFastLaunch": false,
    "category": "Accelerated computing",
    "gpuNum": 1,
    "hideHardwareSpecs": false,
    "memoryGiB": 32,
    "name": "ml.g4dn.2xlarge",
    "vcpuNum": 8
   },
   {
    "_defaultOrder": 31,
    "_isFastLaunch": false,
    "category": "Accelerated computing",
    "gpuNum": 1,
    "hideHardwareSpecs": false,
    "memoryGiB": 64,
    "name": "ml.g4dn.4xlarge",
    "vcpuNum": 16
   },
   {
    "_defaultOrder": 32,
    "_isFastLaunch": false,
    "category": "Accelerated computing",
    "gpuNum": 1,
    "hideHardwareSpecs": false,
    "memoryGiB": 128,
    "name": "ml.g4dn.8xlarge",
    "vcpuNum": 32
   },
   {
    "_defaultOrder": 33,
    "_isFastLaunch": false,
    "category": "Accelerated computing",
    "gpuNum": 4,
    "hideHardwareSpecs": false,
    "memoryGiB": 192,
    "name": "ml.g4dn.12xlarge",
    "vcpuNum": 48
   },
   {
    "_defaultOrder": 34,
    "_isFastLaunch": false,
    "category": "Accelerated computing",
    "gpuNum": 1,
    "hideHardwareSpecs": false,
    "memoryGiB": 256,
    "name": "ml.g4dn.16xlarge",
    "vcpuNum": 64
   },
   {
    "_defaultOrder": 35,
    "_isFastLaunch": false,
    "category": "Accelerated computing",
    "gpuNum": 1,
    "hideHardwareSpecs": false,
    "memoryGiB": 61,
    "name": "ml.p3.2xlarge",
    "vcpuNum": 8
   },
   {
    "_defaultOrder": 36,
    "_isFastLaunch": false,
    "category": "Accelerated computing",
    "gpuNum": 4,
    "hideHardwareSpecs": false,
    "memoryGiB": 244,
    "name": "ml.p3.8xlarge",
    "vcpuNum": 32
   },
   {
    "_defaultOrder": 37,
    "_isFastLaunch": false,
    "category": "Accelerated computing",
    "gpuNum": 8,
    "hideHardwareSpecs": false,
    "memoryGiB": 488,
    "name": "ml.p3.16xlarge",
    "vcpuNum": 64
   },
   {
    "_defaultOrder": 38,
    "_isFastLaunch": false,
    "category": "Accelerated computing",
    "gpuNum": 8,
    "hideHardwareSpecs": false,
    "memoryGiB": 768,
    "name": "ml.p3dn.24xlarge",
    "vcpuNum": 96
   },
   {
    "_defaultOrder": 39,
    "_isFastLaunch": false,
    "category": "Memory Optimized",
    "gpuNum": 0,
    "hideHardwareSpecs": false,
    "memoryGiB": 16,
    "name": "ml.r5.large",
    "vcpuNum": 2
   },
   {
    "_defaultOrder": 40,
    "_isFastLaunch": false,
    "category": "Memory Optimized",
    "gpuNum": 0,
    "hideHardwareSpecs": false,
    "memoryGiB": 32,
    "name": "ml.r5.xlarge",
    "vcpuNum": 4
   },
   {
    "_defaultOrder": 41,
    "_isFastLaunch": false,
    "category": "Memory Optimized",
    "gpuNum": 0,
    "hideHardwareSpecs": false,
    "memoryGiB": 64,
    "name": "ml.r5.2xlarge",
    "vcpuNum": 8
   },
   {
    "_defaultOrder": 42,
    "_isFastLaunch": false,
    "category": "Memory Optimized",
    "gpuNum": 0,
    "hideHardwareSpecs": false,
    "memoryGiB": 128,
    "name": "ml.r5.4xlarge",
    "vcpuNum": 16
   },
   {
    "_defaultOrder": 43,
    "_isFastLaunch": false,
    "category": "Memory Optimized",
    "gpuNum": 0,
    "hideHardwareSpecs": false,
    "memoryGiB": 256,
    "name": "ml.r5.8xlarge",
    "vcpuNum": 32
   },
   {
    "_defaultOrder": 44,
    "_isFastLaunch": false,
    "category": "Memory Optimized",
    "gpuNum": 0,
    "hideHardwareSpecs": false,
    "memoryGiB": 384,
    "name": "ml.r5.12xlarge",
    "vcpuNum": 48
   },
   {
    "_defaultOrder": 45,
    "_isFastLaunch": false,
    "category": "Memory Optimized",
    "gpuNum": 0,
    "hideHardwareSpecs": false,
    "memoryGiB": 512,
    "name": "ml.r5.16xlarge",
    "vcpuNum": 64
   },
   {
    "_defaultOrder": 46,
    "_isFastLaunch": false,
    "category": "Memory Optimized",
    "gpuNum": 0,
    "hideHardwareSpecs": false,
    "memoryGiB": 768,
    "name": "ml.r5.24xlarge",
    "vcpuNum": 96
   },
   {
    "_defaultOrder": 47,
    "_isFastLaunch": false,
    "category": "Accelerated computing",
    "gpuNum": 1,
    "hideHardwareSpecs": false,
    "memoryGiB": 16,
    "name": "ml.g5.xlarge",
    "vcpuNum": 4
   },
   {
    "_defaultOrder": 48,
    "_isFastLaunch": false,
    "category": "Accelerated computing",
    "gpuNum": 1,
    "hideHardwareSpecs": false,
    "memoryGiB": 32,
    "name": "ml.g5.2xlarge",
    "vcpuNum": 8
   },
   {
    "_defaultOrder": 49,
    "_isFastLaunch": false,
    "category": "Accelerated computing",
    "gpuNum": 1,
    "hideHardwareSpecs": false,
    "memoryGiB": 64,
    "name": "ml.g5.4xlarge",
    "vcpuNum": 16
   },
   {
    "_defaultOrder": 50,
    "_isFastLaunch": false,
    "category": "Accelerated computing",
    "gpuNum": 1,
    "hideHardwareSpecs": false,
    "memoryGiB": 128,
    "name": "ml.g5.8xlarge",
    "vcpuNum": 32
   },
   {
    "_defaultOrder": 51,
    "_isFastLaunch": false,
    "category": "Accelerated computing",
    "gpuNum": 1,
    "hideHardwareSpecs": false,
    "memoryGiB": 256,
    "name": "ml.g5.16xlarge",
    "vcpuNum": 64
   },
   {
    "_defaultOrder": 52,
    "_isFastLaunch": false,
    "category": "Accelerated computing",
    "gpuNum": 4,
    "hideHardwareSpecs": false,
    "memoryGiB": 192,
    "name": "ml.g5.12xlarge",
    "vcpuNum": 48
   },
   {
    "_defaultOrder": 53,
    "_isFastLaunch": false,
    "category": "Accelerated computing",
    "gpuNum": 4,
    "hideHardwareSpecs": false,
    "memoryGiB": 384,
    "name": "ml.g5.24xlarge",
    "vcpuNum": 96
   },
   {
    "_defaultOrder": 54,
    "_isFastLaunch": false,
    "category": "Accelerated computing",
    "gpuNum": 8,
    "hideHardwareSpecs": false,
    "memoryGiB": 768,
    "name": "ml.g5.48xlarge",
    "vcpuNum": 192
   },
   {
    "_defaultOrder": 55,
    "_isFastLaunch": false,
    "category": "Accelerated computing",
    "gpuNum": 8,
    "hideHardwareSpecs": false,
    "memoryGiB": 1152,
    "name": "ml.p4d.24xlarge",
    "vcpuNum": 96
   },
   {
    "_defaultOrder": 56,
    "_isFastLaunch": false,
    "category": "Accelerated computing",
    "gpuNum": 8,
    "hideHardwareSpecs": false,
    "memoryGiB": 1152,
    "name": "ml.p4de.24xlarge",
    "vcpuNum": 96
   },
   {
    "_defaultOrder": 57,
    "_isFastLaunch": false,
    "category": "Accelerated computing",
    "gpuNum": 0,
    "hideHardwareSpecs": false,
    "memoryGiB": 32,
    "name": "ml.trn1.2xlarge",
    "vcpuNum": 8
   },
   {
    "_defaultOrder": 58,
    "_isFastLaunch": false,
    "category": "Accelerated computing",
    "gpuNum": 0,
    "hideHardwareSpecs": false,
    "memoryGiB": 512,
    "name": "ml.trn1.32xlarge",
    "vcpuNum": 128
   },
   {
    "_defaultOrder": 59,
    "_isFastLaunch": false,
    "category": "Accelerated computing",
    "gpuNum": 0,
    "hideHardwareSpecs": false,
    "memoryGiB": 512,
    "name": "ml.trn1n.32xlarge",
    "vcpuNum": 128
   }
  ],
  "instance_type": "ml.g5.16xlarge",
  "kernelspec": {
   "display_name": "ir",
   "language": "python",
   "name": "python3"
  },
  "language_info": {
   "codemirror_mode": {
    "name": "ipython",
    "version": 3
   },
   "file_extension": ".py",
   "mimetype": "text/x-python",
   "name": "python",
   "nbconvert_exporter": "python",
   "pygments_lexer": "ipython3",
   "version": "3.9.18"
  }
 },
 "nbformat": 4,
 "nbformat_minor": 5
}
